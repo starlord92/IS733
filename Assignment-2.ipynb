{
  "nbformat": 4,
  "nbformat_minor": 0,
  "metadata": {
    "colab": {
      "provenance": []
    },
    "kernelspec": {
      "name": "python3",
      "display_name": "Python 3"
    },
    "language_info": {
      "name": "python"
    },
    "widgets": {
      "application/vnd.jupyter.widget-state+json": {
        "53a84f8950fc483faca3cc8daed34e84": {
          "model_module": "@jupyter-widgets/controls",
          "model_name": "HBoxModel",
          "model_module_version": "1.5.0",
          "state": {
            "_dom_classes": [],
            "_model_module": "@jupyter-widgets/controls",
            "_model_module_version": "1.5.0",
            "_model_name": "HBoxModel",
            "_view_count": null,
            "_view_module": "@jupyter-widgets/controls",
            "_view_module_version": "1.5.0",
            "_view_name": "HBoxView",
            "box_style": "",
            "children": [
              "IPY_MODEL_03df2ce82be74c4dbb8a340501f3b5c6",
              "IPY_MODEL_395401d81e4c4f2090f6a2d87ec36bfd",
              "IPY_MODEL_86e00168c7c7487cb3f0c9f415751538"
            ],
            "layout": "IPY_MODEL_d962bbbb7dad4fc0b490d3e37e81b379"
          }
        },
        "03df2ce82be74c4dbb8a340501f3b5c6": {
          "model_module": "@jupyter-widgets/controls",
          "model_name": "HTMLModel",
          "model_module_version": "1.5.0",
          "state": {
            "_dom_classes": [],
            "_model_module": "@jupyter-widgets/controls",
            "_model_module_version": "1.5.0",
            "_model_name": "HTMLModel",
            "_view_count": null,
            "_view_module": "@jupyter-widgets/controls",
            "_view_module_version": "1.5.0",
            "_view_name": "HTMLView",
            "description": "",
            "description_tooltip": null,
            "layout": "IPY_MODEL_0ddb7838a4c9499a9234d5fccf5ba1af",
            "placeholder": "​",
            "style": "IPY_MODEL_ac6723cb1ecd403280ac876e48d51630",
            "value": "Summarize dataset: 100%"
          }
        },
        "395401d81e4c4f2090f6a2d87ec36bfd": {
          "model_module": "@jupyter-widgets/controls",
          "model_name": "FloatProgressModel",
          "model_module_version": "1.5.0",
          "state": {
            "_dom_classes": [],
            "_model_module": "@jupyter-widgets/controls",
            "_model_module_version": "1.5.0",
            "_model_name": "FloatProgressModel",
            "_view_count": null,
            "_view_module": "@jupyter-widgets/controls",
            "_view_module_version": "1.5.0",
            "_view_name": "ProgressView",
            "bar_style": "success",
            "description": "",
            "description_tooltip": null,
            "layout": "IPY_MODEL_b4d978771a384b999b4961d558d5b73b",
            "max": 5,
            "min": 0,
            "orientation": "horizontal",
            "style": "IPY_MODEL_3fb64d6beeee495b8b198f64a6cea106",
            "value": 5
          }
        },
        "86e00168c7c7487cb3f0c9f415751538": {
          "model_module": "@jupyter-widgets/controls",
          "model_name": "HTMLModel",
          "model_module_version": "1.5.0",
          "state": {
            "_dom_classes": [],
            "_model_module": "@jupyter-widgets/controls",
            "_model_module_version": "1.5.0",
            "_model_name": "HTMLModel",
            "_view_count": null,
            "_view_module": "@jupyter-widgets/controls",
            "_view_module_version": "1.5.0",
            "_view_name": "HTMLView",
            "description": "",
            "description_tooltip": null,
            "layout": "IPY_MODEL_36ff2eb4ba304357b412f4d0adcfa5e2",
            "placeholder": "​",
            "style": "IPY_MODEL_4dbafce820bb45488d367ed790a1ff3c",
            "value": " 22/22 [00:05&lt;00:00,  4.03it/s, Completed]"
          }
        },
        "d962bbbb7dad4fc0b490d3e37e81b379": {
          "model_module": "@jupyter-widgets/base",
          "model_name": "LayoutModel",
          "model_module_version": "1.2.0",
          "state": {
            "_model_module": "@jupyter-widgets/base",
            "_model_module_version": "1.2.0",
            "_model_name": "LayoutModel",
            "_view_count": null,
            "_view_module": "@jupyter-widgets/base",
            "_view_module_version": "1.2.0",
            "_view_name": "LayoutView",
            "align_content": null,
            "align_items": null,
            "align_self": null,
            "border": null,
            "bottom": null,
            "display": null,
            "flex": null,
            "flex_flow": null,
            "grid_area": null,
            "grid_auto_columns": null,
            "grid_auto_flow": null,
            "grid_auto_rows": null,
            "grid_column": null,
            "grid_gap": null,
            "grid_row": null,
            "grid_template_areas": null,
            "grid_template_columns": null,
            "grid_template_rows": null,
            "height": null,
            "justify_content": null,
            "justify_items": null,
            "left": null,
            "margin": null,
            "max_height": null,
            "max_width": null,
            "min_height": null,
            "min_width": null,
            "object_fit": null,
            "object_position": null,
            "order": null,
            "overflow": null,
            "overflow_x": null,
            "overflow_y": null,
            "padding": null,
            "right": null,
            "top": null,
            "visibility": null,
            "width": null
          }
        },
        "0ddb7838a4c9499a9234d5fccf5ba1af": {
          "model_module": "@jupyter-widgets/base",
          "model_name": "LayoutModel",
          "model_module_version": "1.2.0",
          "state": {
            "_model_module": "@jupyter-widgets/base",
            "_model_module_version": "1.2.0",
            "_model_name": "LayoutModel",
            "_view_count": null,
            "_view_module": "@jupyter-widgets/base",
            "_view_module_version": "1.2.0",
            "_view_name": "LayoutView",
            "align_content": null,
            "align_items": null,
            "align_self": null,
            "border": null,
            "bottom": null,
            "display": null,
            "flex": null,
            "flex_flow": null,
            "grid_area": null,
            "grid_auto_columns": null,
            "grid_auto_flow": null,
            "grid_auto_rows": null,
            "grid_column": null,
            "grid_gap": null,
            "grid_row": null,
            "grid_template_areas": null,
            "grid_template_columns": null,
            "grid_template_rows": null,
            "height": null,
            "justify_content": null,
            "justify_items": null,
            "left": null,
            "margin": null,
            "max_height": null,
            "max_width": null,
            "min_height": null,
            "min_width": null,
            "object_fit": null,
            "object_position": null,
            "order": null,
            "overflow": null,
            "overflow_x": null,
            "overflow_y": null,
            "padding": null,
            "right": null,
            "top": null,
            "visibility": null,
            "width": null
          }
        },
        "ac6723cb1ecd403280ac876e48d51630": {
          "model_module": "@jupyter-widgets/controls",
          "model_name": "DescriptionStyleModel",
          "model_module_version": "1.5.0",
          "state": {
            "_model_module": "@jupyter-widgets/controls",
            "_model_module_version": "1.5.0",
            "_model_name": "DescriptionStyleModel",
            "_view_count": null,
            "_view_module": "@jupyter-widgets/base",
            "_view_module_version": "1.2.0",
            "_view_name": "StyleView",
            "description_width": ""
          }
        },
        "b4d978771a384b999b4961d558d5b73b": {
          "model_module": "@jupyter-widgets/base",
          "model_name": "LayoutModel",
          "model_module_version": "1.2.0",
          "state": {
            "_model_module": "@jupyter-widgets/base",
            "_model_module_version": "1.2.0",
            "_model_name": "LayoutModel",
            "_view_count": null,
            "_view_module": "@jupyter-widgets/base",
            "_view_module_version": "1.2.0",
            "_view_name": "LayoutView",
            "align_content": null,
            "align_items": null,
            "align_self": null,
            "border": null,
            "bottom": null,
            "display": null,
            "flex": null,
            "flex_flow": null,
            "grid_area": null,
            "grid_auto_columns": null,
            "grid_auto_flow": null,
            "grid_auto_rows": null,
            "grid_column": null,
            "grid_gap": null,
            "grid_row": null,
            "grid_template_areas": null,
            "grid_template_columns": null,
            "grid_template_rows": null,
            "height": null,
            "justify_content": null,
            "justify_items": null,
            "left": null,
            "margin": null,
            "max_height": null,
            "max_width": null,
            "min_height": null,
            "min_width": null,
            "object_fit": null,
            "object_position": null,
            "order": null,
            "overflow": null,
            "overflow_x": null,
            "overflow_y": null,
            "padding": null,
            "right": null,
            "top": null,
            "visibility": null,
            "width": null
          }
        },
        "3fb64d6beeee495b8b198f64a6cea106": {
          "model_module": "@jupyter-widgets/controls",
          "model_name": "ProgressStyleModel",
          "model_module_version": "1.5.0",
          "state": {
            "_model_module": "@jupyter-widgets/controls",
            "_model_module_version": "1.5.0",
            "_model_name": "ProgressStyleModel",
            "_view_count": null,
            "_view_module": "@jupyter-widgets/base",
            "_view_module_version": "1.2.0",
            "_view_name": "StyleView",
            "bar_color": null,
            "description_width": ""
          }
        },
        "36ff2eb4ba304357b412f4d0adcfa5e2": {
          "model_module": "@jupyter-widgets/base",
          "model_name": "LayoutModel",
          "model_module_version": "1.2.0",
          "state": {
            "_model_module": "@jupyter-widgets/base",
            "_model_module_version": "1.2.0",
            "_model_name": "LayoutModel",
            "_view_count": null,
            "_view_module": "@jupyter-widgets/base",
            "_view_module_version": "1.2.0",
            "_view_name": "LayoutView",
            "align_content": null,
            "align_items": null,
            "align_self": null,
            "border": null,
            "bottom": null,
            "display": null,
            "flex": null,
            "flex_flow": null,
            "grid_area": null,
            "grid_auto_columns": null,
            "grid_auto_flow": null,
            "grid_auto_rows": null,
            "grid_column": null,
            "grid_gap": null,
            "grid_row": null,
            "grid_template_areas": null,
            "grid_template_columns": null,
            "grid_template_rows": null,
            "height": null,
            "justify_content": null,
            "justify_items": null,
            "left": null,
            "margin": null,
            "max_height": null,
            "max_width": null,
            "min_height": null,
            "min_width": null,
            "object_fit": null,
            "object_position": null,
            "order": null,
            "overflow": null,
            "overflow_x": null,
            "overflow_y": null,
            "padding": null,
            "right": null,
            "top": null,
            "visibility": null,
            "width": null
          }
        },
        "4dbafce820bb45488d367ed790a1ff3c": {
          "model_module": "@jupyter-widgets/controls",
          "model_name": "DescriptionStyleModel",
          "model_module_version": "1.5.0",
          "state": {
            "_model_module": "@jupyter-widgets/controls",
            "_model_module_version": "1.5.0",
            "_model_name": "DescriptionStyleModel",
            "_view_count": null,
            "_view_module": "@jupyter-widgets/base",
            "_view_module_version": "1.2.0",
            "_view_name": "StyleView",
            "description_width": ""
          }
        },
        "999db4baca4e402fbddb44963b1582d1": {
          "model_module": "@jupyter-widgets/controls",
          "model_name": "HBoxModel",
          "model_module_version": "1.5.0",
          "state": {
            "_dom_classes": [],
            "_model_module": "@jupyter-widgets/controls",
            "_model_module_version": "1.5.0",
            "_model_name": "HBoxModel",
            "_view_count": null,
            "_view_module": "@jupyter-widgets/controls",
            "_view_module_version": "1.5.0",
            "_view_name": "HBoxView",
            "box_style": "",
            "children": [
              "IPY_MODEL_e74f7f1e41ca46b0aeec8d7e0a861c32",
              "IPY_MODEL_605af45e75b844a68fab935f633715dc",
              "IPY_MODEL_88e117fe3bf0411fb7bad5689574cc15"
            ],
            "layout": "IPY_MODEL_09b7f30a8797497d920b6f236689166f"
          }
        },
        "e74f7f1e41ca46b0aeec8d7e0a861c32": {
          "model_module": "@jupyter-widgets/controls",
          "model_name": "HTMLModel",
          "model_module_version": "1.5.0",
          "state": {
            "_dom_classes": [],
            "_model_module": "@jupyter-widgets/controls",
            "_model_module_version": "1.5.0",
            "_model_name": "HTMLModel",
            "_view_count": null,
            "_view_module": "@jupyter-widgets/controls",
            "_view_module_version": "1.5.0",
            "_view_name": "HTMLView",
            "description": "",
            "description_tooltip": null,
            "layout": "IPY_MODEL_49d9ada5b9264e9380f2666fc17b8e3a",
            "placeholder": "​",
            "style": "IPY_MODEL_7fdfb9cf7eb54d488529e9cc7f5c6b20",
            "value": "Generate report structure: 100%"
          }
        },
        "605af45e75b844a68fab935f633715dc": {
          "model_module": "@jupyter-widgets/controls",
          "model_name": "FloatProgressModel",
          "model_module_version": "1.5.0",
          "state": {
            "_dom_classes": [],
            "_model_module": "@jupyter-widgets/controls",
            "_model_module_version": "1.5.0",
            "_model_name": "FloatProgressModel",
            "_view_count": null,
            "_view_module": "@jupyter-widgets/controls",
            "_view_module_version": "1.5.0",
            "_view_name": "ProgressView",
            "bar_style": "success",
            "description": "",
            "description_tooltip": null,
            "layout": "IPY_MODEL_6dfbf9a208564460abe95dfe439cad3b",
            "max": 1,
            "min": 0,
            "orientation": "horizontal",
            "style": "IPY_MODEL_244f440a1e0141c98d18af091ddf9bf6",
            "value": 1
          }
        },
        "88e117fe3bf0411fb7bad5689574cc15": {
          "model_module": "@jupyter-widgets/controls",
          "model_name": "HTMLModel",
          "model_module_version": "1.5.0",
          "state": {
            "_dom_classes": [],
            "_model_module": "@jupyter-widgets/controls",
            "_model_module_version": "1.5.0",
            "_model_name": "HTMLModel",
            "_view_count": null,
            "_view_module": "@jupyter-widgets/controls",
            "_view_module_version": "1.5.0",
            "_view_name": "HTMLView",
            "description": "",
            "description_tooltip": null,
            "layout": "IPY_MODEL_0b1caf8c89d14c74a86a4f4a84d1bfeb",
            "placeholder": "​",
            "style": "IPY_MODEL_970ed5c734c54ccfae6e97d748985fb7",
            "value": " 1/1 [00:02&lt;00:00,  2.66s/it]"
          }
        },
        "09b7f30a8797497d920b6f236689166f": {
          "model_module": "@jupyter-widgets/base",
          "model_name": "LayoutModel",
          "model_module_version": "1.2.0",
          "state": {
            "_model_module": "@jupyter-widgets/base",
            "_model_module_version": "1.2.0",
            "_model_name": "LayoutModel",
            "_view_count": null,
            "_view_module": "@jupyter-widgets/base",
            "_view_module_version": "1.2.0",
            "_view_name": "LayoutView",
            "align_content": null,
            "align_items": null,
            "align_self": null,
            "border": null,
            "bottom": null,
            "display": null,
            "flex": null,
            "flex_flow": null,
            "grid_area": null,
            "grid_auto_columns": null,
            "grid_auto_flow": null,
            "grid_auto_rows": null,
            "grid_column": null,
            "grid_gap": null,
            "grid_row": null,
            "grid_template_areas": null,
            "grid_template_columns": null,
            "grid_template_rows": null,
            "height": null,
            "justify_content": null,
            "justify_items": null,
            "left": null,
            "margin": null,
            "max_height": null,
            "max_width": null,
            "min_height": null,
            "min_width": null,
            "object_fit": null,
            "object_position": null,
            "order": null,
            "overflow": null,
            "overflow_x": null,
            "overflow_y": null,
            "padding": null,
            "right": null,
            "top": null,
            "visibility": null,
            "width": null
          }
        },
        "49d9ada5b9264e9380f2666fc17b8e3a": {
          "model_module": "@jupyter-widgets/base",
          "model_name": "LayoutModel",
          "model_module_version": "1.2.0",
          "state": {
            "_model_module": "@jupyter-widgets/base",
            "_model_module_version": "1.2.0",
            "_model_name": "LayoutModel",
            "_view_count": null,
            "_view_module": "@jupyter-widgets/base",
            "_view_module_version": "1.2.0",
            "_view_name": "LayoutView",
            "align_content": null,
            "align_items": null,
            "align_self": null,
            "border": null,
            "bottom": null,
            "display": null,
            "flex": null,
            "flex_flow": null,
            "grid_area": null,
            "grid_auto_columns": null,
            "grid_auto_flow": null,
            "grid_auto_rows": null,
            "grid_column": null,
            "grid_gap": null,
            "grid_row": null,
            "grid_template_areas": null,
            "grid_template_columns": null,
            "grid_template_rows": null,
            "height": null,
            "justify_content": null,
            "justify_items": null,
            "left": null,
            "margin": null,
            "max_height": null,
            "max_width": null,
            "min_height": null,
            "min_width": null,
            "object_fit": null,
            "object_position": null,
            "order": null,
            "overflow": null,
            "overflow_x": null,
            "overflow_y": null,
            "padding": null,
            "right": null,
            "top": null,
            "visibility": null,
            "width": null
          }
        },
        "7fdfb9cf7eb54d488529e9cc7f5c6b20": {
          "model_module": "@jupyter-widgets/controls",
          "model_name": "DescriptionStyleModel",
          "model_module_version": "1.5.0",
          "state": {
            "_model_module": "@jupyter-widgets/controls",
            "_model_module_version": "1.5.0",
            "_model_name": "DescriptionStyleModel",
            "_view_count": null,
            "_view_module": "@jupyter-widgets/base",
            "_view_module_version": "1.2.0",
            "_view_name": "StyleView",
            "description_width": ""
          }
        },
        "6dfbf9a208564460abe95dfe439cad3b": {
          "model_module": "@jupyter-widgets/base",
          "model_name": "LayoutModel",
          "model_module_version": "1.2.0",
          "state": {
            "_model_module": "@jupyter-widgets/base",
            "_model_module_version": "1.2.0",
            "_model_name": "LayoutModel",
            "_view_count": null,
            "_view_module": "@jupyter-widgets/base",
            "_view_module_version": "1.2.0",
            "_view_name": "LayoutView",
            "align_content": null,
            "align_items": null,
            "align_self": null,
            "border": null,
            "bottom": null,
            "display": null,
            "flex": null,
            "flex_flow": null,
            "grid_area": null,
            "grid_auto_columns": null,
            "grid_auto_flow": null,
            "grid_auto_rows": null,
            "grid_column": null,
            "grid_gap": null,
            "grid_row": null,
            "grid_template_areas": null,
            "grid_template_columns": null,
            "grid_template_rows": null,
            "height": null,
            "justify_content": null,
            "justify_items": null,
            "left": null,
            "margin": null,
            "max_height": null,
            "max_width": null,
            "min_height": null,
            "min_width": null,
            "object_fit": null,
            "object_position": null,
            "order": null,
            "overflow": null,
            "overflow_x": null,
            "overflow_y": null,
            "padding": null,
            "right": null,
            "top": null,
            "visibility": null,
            "width": null
          }
        },
        "244f440a1e0141c98d18af091ddf9bf6": {
          "model_module": "@jupyter-widgets/controls",
          "model_name": "ProgressStyleModel",
          "model_module_version": "1.5.0",
          "state": {
            "_model_module": "@jupyter-widgets/controls",
            "_model_module_version": "1.5.0",
            "_model_name": "ProgressStyleModel",
            "_view_count": null,
            "_view_module": "@jupyter-widgets/base",
            "_view_module_version": "1.2.0",
            "_view_name": "StyleView",
            "bar_color": null,
            "description_width": ""
          }
        },
        "0b1caf8c89d14c74a86a4f4a84d1bfeb": {
          "model_module": "@jupyter-widgets/base",
          "model_name": "LayoutModel",
          "model_module_version": "1.2.0",
          "state": {
            "_model_module": "@jupyter-widgets/base",
            "_model_module_version": "1.2.0",
            "_model_name": "LayoutModel",
            "_view_count": null,
            "_view_module": "@jupyter-widgets/base",
            "_view_module_version": "1.2.0",
            "_view_name": "LayoutView",
            "align_content": null,
            "align_items": null,
            "align_self": null,
            "border": null,
            "bottom": null,
            "display": null,
            "flex": null,
            "flex_flow": null,
            "grid_area": null,
            "grid_auto_columns": null,
            "grid_auto_flow": null,
            "grid_auto_rows": null,
            "grid_column": null,
            "grid_gap": null,
            "grid_row": null,
            "grid_template_areas": null,
            "grid_template_columns": null,
            "grid_template_rows": null,
            "height": null,
            "justify_content": null,
            "justify_items": null,
            "left": null,
            "margin": null,
            "max_height": null,
            "max_width": null,
            "min_height": null,
            "min_width": null,
            "object_fit": null,
            "object_position": null,
            "order": null,
            "overflow": null,
            "overflow_x": null,
            "overflow_y": null,
            "padding": null,
            "right": null,
            "top": null,
            "visibility": null,
            "width": null
          }
        },
        "970ed5c734c54ccfae6e97d748985fb7": {
          "model_module": "@jupyter-widgets/controls",
          "model_name": "DescriptionStyleModel",
          "model_module_version": "1.5.0",
          "state": {
            "_model_module": "@jupyter-widgets/controls",
            "_model_module_version": "1.5.0",
            "_model_name": "DescriptionStyleModel",
            "_view_count": null,
            "_view_module": "@jupyter-widgets/base",
            "_view_module_version": "1.2.0",
            "_view_name": "StyleView",
            "description_width": ""
          }
        },
        "bd58d83602bd4ebfbe72d54ac799e850": {
          "model_module": "@jupyter-widgets/controls",
          "model_name": "HBoxModel",
          "model_module_version": "1.5.0",
          "state": {
            "_dom_classes": [],
            "_model_module": "@jupyter-widgets/controls",
            "_model_module_version": "1.5.0",
            "_model_name": "HBoxModel",
            "_view_count": null,
            "_view_module": "@jupyter-widgets/controls",
            "_view_module_version": "1.5.0",
            "_view_name": "HBoxView",
            "box_style": "",
            "children": [
              "IPY_MODEL_5496202da38b42298e9f856512b85231",
              "IPY_MODEL_30478f9db05b4906ae37e43672e030c7",
              "IPY_MODEL_4f58a1e2c18b4844a55ebefb3148359f"
            ],
            "layout": "IPY_MODEL_af976e4901dc4ae58d04c2d26e3b4541"
          }
        },
        "5496202da38b42298e9f856512b85231": {
          "model_module": "@jupyter-widgets/controls",
          "model_name": "HTMLModel",
          "model_module_version": "1.5.0",
          "state": {
            "_dom_classes": [],
            "_model_module": "@jupyter-widgets/controls",
            "_model_module_version": "1.5.0",
            "_model_name": "HTMLModel",
            "_view_count": null,
            "_view_module": "@jupyter-widgets/controls",
            "_view_module_version": "1.5.0",
            "_view_name": "HTMLView",
            "description": "",
            "description_tooltip": null,
            "layout": "IPY_MODEL_7c3ca684cad34390a123830bf20412d2",
            "placeholder": "​",
            "style": "IPY_MODEL_c00a6354a301485d8ec37c4328fbc03f",
            "value": "Render HTML: 100%"
          }
        },
        "30478f9db05b4906ae37e43672e030c7": {
          "model_module": "@jupyter-widgets/controls",
          "model_name": "FloatProgressModel",
          "model_module_version": "1.5.0",
          "state": {
            "_dom_classes": [],
            "_model_module": "@jupyter-widgets/controls",
            "_model_module_version": "1.5.0",
            "_model_name": "FloatProgressModel",
            "_view_count": null,
            "_view_module": "@jupyter-widgets/controls",
            "_view_module_version": "1.5.0",
            "_view_name": "ProgressView",
            "bar_style": "success",
            "description": "",
            "description_tooltip": null,
            "layout": "IPY_MODEL_3e88a747f59d46b5a1f2d5b790b8dea1",
            "max": 1,
            "min": 0,
            "orientation": "horizontal",
            "style": "IPY_MODEL_f48c005f098c45db81347c5dcf646939",
            "value": 1
          }
        },
        "4f58a1e2c18b4844a55ebefb3148359f": {
          "model_module": "@jupyter-widgets/controls",
          "model_name": "HTMLModel",
          "model_module_version": "1.5.0",
          "state": {
            "_dom_classes": [],
            "_model_module": "@jupyter-widgets/controls",
            "_model_module_version": "1.5.0",
            "_model_name": "HTMLModel",
            "_view_count": null,
            "_view_module": "@jupyter-widgets/controls",
            "_view_module_version": "1.5.0",
            "_view_name": "HTMLView",
            "description": "",
            "description_tooltip": null,
            "layout": "IPY_MODEL_0e8c9dbba1f44d16b340016eb07e2f5d",
            "placeholder": "​",
            "style": "IPY_MODEL_48fe4410db38418ca83b324dc839c66b",
            "value": " 1/1 [00:00&lt;00:00,  1.44it/s]"
          }
        },
        "af976e4901dc4ae58d04c2d26e3b4541": {
          "model_module": "@jupyter-widgets/base",
          "model_name": "LayoutModel",
          "model_module_version": "1.2.0",
          "state": {
            "_model_module": "@jupyter-widgets/base",
            "_model_module_version": "1.2.0",
            "_model_name": "LayoutModel",
            "_view_count": null,
            "_view_module": "@jupyter-widgets/base",
            "_view_module_version": "1.2.0",
            "_view_name": "LayoutView",
            "align_content": null,
            "align_items": null,
            "align_self": null,
            "border": null,
            "bottom": null,
            "display": null,
            "flex": null,
            "flex_flow": null,
            "grid_area": null,
            "grid_auto_columns": null,
            "grid_auto_flow": null,
            "grid_auto_rows": null,
            "grid_column": null,
            "grid_gap": null,
            "grid_row": null,
            "grid_template_areas": null,
            "grid_template_columns": null,
            "grid_template_rows": null,
            "height": null,
            "justify_content": null,
            "justify_items": null,
            "left": null,
            "margin": null,
            "max_height": null,
            "max_width": null,
            "min_height": null,
            "min_width": null,
            "object_fit": null,
            "object_position": null,
            "order": null,
            "overflow": null,
            "overflow_x": null,
            "overflow_y": null,
            "padding": null,
            "right": null,
            "top": null,
            "visibility": null,
            "width": null
          }
        },
        "7c3ca684cad34390a123830bf20412d2": {
          "model_module": "@jupyter-widgets/base",
          "model_name": "LayoutModel",
          "model_module_version": "1.2.0",
          "state": {
            "_model_module": "@jupyter-widgets/base",
            "_model_module_version": "1.2.0",
            "_model_name": "LayoutModel",
            "_view_count": null,
            "_view_module": "@jupyter-widgets/base",
            "_view_module_version": "1.2.0",
            "_view_name": "LayoutView",
            "align_content": null,
            "align_items": null,
            "align_self": null,
            "border": null,
            "bottom": null,
            "display": null,
            "flex": null,
            "flex_flow": null,
            "grid_area": null,
            "grid_auto_columns": null,
            "grid_auto_flow": null,
            "grid_auto_rows": null,
            "grid_column": null,
            "grid_gap": null,
            "grid_row": null,
            "grid_template_areas": null,
            "grid_template_columns": null,
            "grid_template_rows": null,
            "height": null,
            "justify_content": null,
            "justify_items": null,
            "left": null,
            "margin": null,
            "max_height": null,
            "max_width": null,
            "min_height": null,
            "min_width": null,
            "object_fit": null,
            "object_position": null,
            "order": null,
            "overflow": null,
            "overflow_x": null,
            "overflow_y": null,
            "padding": null,
            "right": null,
            "top": null,
            "visibility": null,
            "width": null
          }
        },
        "c00a6354a301485d8ec37c4328fbc03f": {
          "model_module": "@jupyter-widgets/controls",
          "model_name": "DescriptionStyleModel",
          "model_module_version": "1.5.0",
          "state": {
            "_model_module": "@jupyter-widgets/controls",
            "_model_module_version": "1.5.0",
            "_model_name": "DescriptionStyleModel",
            "_view_count": null,
            "_view_module": "@jupyter-widgets/base",
            "_view_module_version": "1.2.0",
            "_view_name": "StyleView",
            "description_width": ""
          }
        },
        "3e88a747f59d46b5a1f2d5b790b8dea1": {
          "model_module": "@jupyter-widgets/base",
          "model_name": "LayoutModel",
          "model_module_version": "1.2.0",
          "state": {
            "_model_module": "@jupyter-widgets/base",
            "_model_module_version": "1.2.0",
            "_model_name": "LayoutModel",
            "_view_count": null,
            "_view_module": "@jupyter-widgets/base",
            "_view_module_version": "1.2.0",
            "_view_name": "LayoutView",
            "align_content": null,
            "align_items": null,
            "align_self": null,
            "border": null,
            "bottom": null,
            "display": null,
            "flex": null,
            "flex_flow": null,
            "grid_area": null,
            "grid_auto_columns": null,
            "grid_auto_flow": null,
            "grid_auto_rows": null,
            "grid_column": null,
            "grid_gap": null,
            "grid_row": null,
            "grid_template_areas": null,
            "grid_template_columns": null,
            "grid_template_rows": null,
            "height": null,
            "justify_content": null,
            "justify_items": null,
            "left": null,
            "margin": null,
            "max_height": null,
            "max_width": null,
            "min_height": null,
            "min_width": null,
            "object_fit": null,
            "object_position": null,
            "order": null,
            "overflow": null,
            "overflow_x": null,
            "overflow_y": null,
            "padding": null,
            "right": null,
            "top": null,
            "visibility": null,
            "width": null
          }
        },
        "f48c005f098c45db81347c5dcf646939": {
          "model_module": "@jupyter-widgets/controls",
          "model_name": "ProgressStyleModel",
          "model_module_version": "1.5.0",
          "state": {
            "_model_module": "@jupyter-widgets/controls",
            "_model_module_version": "1.5.0",
            "_model_name": "ProgressStyleModel",
            "_view_count": null,
            "_view_module": "@jupyter-widgets/base",
            "_view_module_version": "1.2.0",
            "_view_name": "StyleView",
            "bar_color": null,
            "description_width": ""
          }
        },
        "0e8c9dbba1f44d16b340016eb07e2f5d": {
          "model_module": "@jupyter-widgets/base",
          "model_name": "LayoutModel",
          "model_module_version": "1.2.0",
          "state": {
            "_model_module": "@jupyter-widgets/base",
            "_model_module_version": "1.2.0",
            "_model_name": "LayoutModel",
            "_view_count": null,
            "_view_module": "@jupyter-widgets/base",
            "_view_module_version": "1.2.0",
            "_view_name": "LayoutView",
            "align_content": null,
            "align_items": null,
            "align_self": null,
            "border": null,
            "bottom": null,
            "display": null,
            "flex": null,
            "flex_flow": null,
            "grid_area": null,
            "grid_auto_columns": null,
            "grid_auto_flow": null,
            "grid_auto_rows": null,
            "grid_column": null,
            "grid_gap": null,
            "grid_row": null,
            "grid_template_areas": null,
            "grid_template_columns": null,
            "grid_template_rows": null,
            "height": null,
            "justify_content": null,
            "justify_items": null,
            "left": null,
            "margin": null,
            "max_height": null,
            "max_width": null,
            "min_height": null,
            "min_width": null,
            "object_fit": null,
            "object_position": null,
            "order": null,
            "overflow": null,
            "overflow_x": null,
            "overflow_y": null,
            "padding": null,
            "right": null,
            "top": null,
            "visibility": null,
            "width": null
          }
        },
        "48fe4410db38418ca83b324dc839c66b": {
          "model_module": "@jupyter-widgets/controls",
          "model_name": "DescriptionStyleModel",
          "model_module_version": "1.5.0",
          "state": {
            "_model_module": "@jupyter-widgets/controls",
            "_model_module_version": "1.5.0",
            "_model_name": "DescriptionStyleModel",
            "_view_count": null,
            "_view_module": "@jupyter-widgets/base",
            "_view_module_version": "1.2.0",
            "_view_name": "StyleView",
            "description_width": ""
          }
        },
        "9dca91e5401942e38430c49465ad85ed": {
          "model_module": "@jupyter-widgets/controls",
          "model_name": "HBoxModel",
          "model_module_version": "1.5.0",
          "state": {
            "_dom_classes": [],
            "_model_module": "@jupyter-widgets/controls",
            "_model_module_version": "1.5.0",
            "_model_name": "HBoxModel",
            "_view_count": null,
            "_view_module": "@jupyter-widgets/controls",
            "_view_module_version": "1.5.0",
            "_view_name": "HBoxView",
            "box_style": "",
            "children": [
              "IPY_MODEL_7bf2bbc6618947a08a689ca1cd34b18e",
              "IPY_MODEL_e682569bcf224c1395c821831d2fdf3a",
              "IPY_MODEL_9b4b4df670284ca5aff7b45970abdac1"
            ],
            "layout": "IPY_MODEL_6ecc33cbe11f45179c0d8db4db501dc8"
          }
        },
        "7bf2bbc6618947a08a689ca1cd34b18e": {
          "model_module": "@jupyter-widgets/controls",
          "model_name": "HTMLModel",
          "model_module_version": "1.5.0",
          "state": {
            "_dom_classes": [],
            "_model_module": "@jupyter-widgets/controls",
            "_model_module_version": "1.5.0",
            "_model_name": "HTMLModel",
            "_view_count": null,
            "_view_module": "@jupyter-widgets/controls",
            "_view_module_version": "1.5.0",
            "_view_name": "HTMLView",
            "description": "",
            "description_tooltip": null,
            "layout": "IPY_MODEL_9684fcc20fdf4714995250a2eff4a2e2",
            "placeholder": "​",
            "style": "IPY_MODEL_862ff2c913b444d59faafd62869ed5ef",
            "value": "Export report to file: 100%"
          }
        },
        "e682569bcf224c1395c821831d2fdf3a": {
          "model_module": "@jupyter-widgets/controls",
          "model_name": "FloatProgressModel",
          "model_module_version": "1.5.0",
          "state": {
            "_dom_classes": [],
            "_model_module": "@jupyter-widgets/controls",
            "_model_module_version": "1.5.0",
            "_model_name": "FloatProgressModel",
            "_view_count": null,
            "_view_module": "@jupyter-widgets/controls",
            "_view_module_version": "1.5.0",
            "_view_name": "ProgressView",
            "bar_style": "success",
            "description": "",
            "description_tooltip": null,
            "layout": "IPY_MODEL_5fabfe0c6e1e4455b90478c31f589894",
            "max": 1,
            "min": 0,
            "orientation": "horizontal",
            "style": "IPY_MODEL_adcd478d23654b1caf687e8e2362bef4",
            "value": 1
          }
        },
        "9b4b4df670284ca5aff7b45970abdac1": {
          "model_module": "@jupyter-widgets/controls",
          "model_name": "HTMLModel",
          "model_module_version": "1.5.0",
          "state": {
            "_dom_classes": [],
            "_model_module": "@jupyter-widgets/controls",
            "_model_module_version": "1.5.0",
            "_model_name": "HTMLModel",
            "_view_count": null,
            "_view_module": "@jupyter-widgets/controls",
            "_view_module_version": "1.5.0",
            "_view_name": "HTMLView",
            "description": "",
            "description_tooltip": null,
            "layout": "IPY_MODEL_4ac06f8fa6d64f9fabb2b70f9d9c6ac9",
            "placeholder": "​",
            "style": "IPY_MODEL_ad9272721ea449aea3ddfc84c751673e",
            "value": " 1/1 [00:00&lt;00:00, 31.10it/s]"
          }
        },
        "6ecc33cbe11f45179c0d8db4db501dc8": {
          "model_module": "@jupyter-widgets/base",
          "model_name": "LayoutModel",
          "model_module_version": "1.2.0",
          "state": {
            "_model_module": "@jupyter-widgets/base",
            "_model_module_version": "1.2.0",
            "_model_name": "LayoutModel",
            "_view_count": null,
            "_view_module": "@jupyter-widgets/base",
            "_view_module_version": "1.2.0",
            "_view_name": "LayoutView",
            "align_content": null,
            "align_items": null,
            "align_self": null,
            "border": null,
            "bottom": null,
            "display": null,
            "flex": null,
            "flex_flow": null,
            "grid_area": null,
            "grid_auto_columns": null,
            "grid_auto_flow": null,
            "grid_auto_rows": null,
            "grid_column": null,
            "grid_gap": null,
            "grid_row": null,
            "grid_template_areas": null,
            "grid_template_columns": null,
            "grid_template_rows": null,
            "height": null,
            "justify_content": null,
            "justify_items": null,
            "left": null,
            "margin": null,
            "max_height": null,
            "max_width": null,
            "min_height": null,
            "min_width": null,
            "object_fit": null,
            "object_position": null,
            "order": null,
            "overflow": null,
            "overflow_x": null,
            "overflow_y": null,
            "padding": null,
            "right": null,
            "top": null,
            "visibility": null,
            "width": null
          }
        },
        "9684fcc20fdf4714995250a2eff4a2e2": {
          "model_module": "@jupyter-widgets/base",
          "model_name": "LayoutModel",
          "model_module_version": "1.2.0",
          "state": {
            "_model_module": "@jupyter-widgets/base",
            "_model_module_version": "1.2.0",
            "_model_name": "LayoutModel",
            "_view_count": null,
            "_view_module": "@jupyter-widgets/base",
            "_view_module_version": "1.2.0",
            "_view_name": "LayoutView",
            "align_content": null,
            "align_items": null,
            "align_self": null,
            "border": null,
            "bottom": null,
            "display": null,
            "flex": null,
            "flex_flow": null,
            "grid_area": null,
            "grid_auto_columns": null,
            "grid_auto_flow": null,
            "grid_auto_rows": null,
            "grid_column": null,
            "grid_gap": null,
            "grid_row": null,
            "grid_template_areas": null,
            "grid_template_columns": null,
            "grid_template_rows": null,
            "height": null,
            "justify_content": null,
            "justify_items": null,
            "left": null,
            "margin": null,
            "max_height": null,
            "max_width": null,
            "min_height": null,
            "min_width": null,
            "object_fit": null,
            "object_position": null,
            "order": null,
            "overflow": null,
            "overflow_x": null,
            "overflow_y": null,
            "padding": null,
            "right": null,
            "top": null,
            "visibility": null,
            "width": null
          }
        },
        "862ff2c913b444d59faafd62869ed5ef": {
          "model_module": "@jupyter-widgets/controls",
          "model_name": "DescriptionStyleModel",
          "model_module_version": "1.5.0",
          "state": {
            "_model_module": "@jupyter-widgets/controls",
            "_model_module_version": "1.5.0",
            "_model_name": "DescriptionStyleModel",
            "_view_count": null,
            "_view_module": "@jupyter-widgets/base",
            "_view_module_version": "1.2.0",
            "_view_name": "StyleView",
            "description_width": ""
          }
        },
        "5fabfe0c6e1e4455b90478c31f589894": {
          "model_module": "@jupyter-widgets/base",
          "model_name": "LayoutModel",
          "model_module_version": "1.2.0",
          "state": {
            "_model_module": "@jupyter-widgets/base",
            "_model_module_version": "1.2.0",
            "_model_name": "LayoutModel",
            "_view_count": null,
            "_view_module": "@jupyter-widgets/base",
            "_view_module_version": "1.2.0",
            "_view_name": "LayoutView",
            "align_content": null,
            "align_items": null,
            "align_self": null,
            "border": null,
            "bottom": null,
            "display": null,
            "flex": null,
            "flex_flow": null,
            "grid_area": null,
            "grid_auto_columns": null,
            "grid_auto_flow": null,
            "grid_auto_rows": null,
            "grid_column": null,
            "grid_gap": null,
            "grid_row": null,
            "grid_template_areas": null,
            "grid_template_columns": null,
            "grid_template_rows": null,
            "height": null,
            "justify_content": null,
            "justify_items": null,
            "left": null,
            "margin": null,
            "max_height": null,
            "max_width": null,
            "min_height": null,
            "min_width": null,
            "object_fit": null,
            "object_position": null,
            "order": null,
            "overflow": null,
            "overflow_x": null,
            "overflow_y": null,
            "padding": null,
            "right": null,
            "top": null,
            "visibility": null,
            "width": null
          }
        },
        "adcd478d23654b1caf687e8e2362bef4": {
          "model_module": "@jupyter-widgets/controls",
          "model_name": "ProgressStyleModel",
          "model_module_version": "1.5.0",
          "state": {
            "_model_module": "@jupyter-widgets/controls",
            "_model_module_version": "1.5.0",
            "_model_name": "ProgressStyleModel",
            "_view_count": null,
            "_view_module": "@jupyter-widgets/base",
            "_view_module_version": "1.2.0",
            "_view_name": "StyleView",
            "bar_color": null,
            "description_width": ""
          }
        },
        "4ac06f8fa6d64f9fabb2b70f9d9c6ac9": {
          "model_module": "@jupyter-widgets/base",
          "model_name": "LayoutModel",
          "model_module_version": "1.2.0",
          "state": {
            "_model_module": "@jupyter-widgets/base",
            "_model_module_version": "1.2.0",
            "_model_name": "LayoutModel",
            "_view_count": null,
            "_view_module": "@jupyter-widgets/base",
            "_view_module_version": "1.2.0",
            "_view_name": "LayoutView",
            "align_content": null,
            "align_items": null,
            "align_self": null,
            "border": null,
            "bottom": null,
            "display": null,
            "flex": null,
            "flex_flow": null,
            "grid_area": null,
            "grid_auto_columns": null,
            "grid_auto_flow": null,
            "grid_auto_rows": null,
            "grid_column": null,
            "grid_gap": null,
            "grid_row": null,
            "grid_template_areas": null,
            "grid_template_columns": null,
            "grid_template_rows": null,
            "height": null,
            "justify_content": null,
            "justify_items": null,
            "left": null,
            "margin": null,
            "max_height": null,
            "max_width": null,
            "min_height": null,
            "min_width": null,
            "object_fit": null,
            "object_position": null,
            "order": null,
            "overflow": null,
            "overflow_x": null,
            "overflow_y": null,
            "padding": null,
            "right": null,
            "top": null,
            "visibility": null,
            "width": null
          }
        },
        "ad9272721ea449aea3ddfc84c751673e": {
          "model_module": "@jupyter-widgets/controls",
          "model_name": "DescriptionStyleModel",
          "model_module_version": "1.5.0",
          "state": {
            "_model_module": "@jupyter-widgets/controls",
            "_model_module_version": "1.5.0",
            "_model_name": "DescriptionStyleModel",
            "_view_count": null,
            "_view_module": "@jupyter-widgets/base",
            "_view_module_version": "1.2.0",
            "_view_name": "StyleView",
            "description_width": ""
          }
        }
      }
    }
  },
  "cells": [
    {
      "cell_type": "code",
      "execution_count": null,
      "metadata": {
        "id": "2QT_bHVL9bgh"
      },
      "outputs": [],
      "source": [
        "pip install -U ydata-profiling\n"
      ]
    },
    {
      "cell_type": "code",
      "source": [
        "pip install -U ydata-profiling[notebook,unicode,pyspark]"
      ],
      "metadata": {
        "id": "p3VMQCxk9wck"
      },
      "execution_count": null,
      "outputs": []
    },
    {
      "cell_type": "code",
      "source": [
        "import numpy as np\n",
        "import pandas as pd\n",
        "from ydata_profiling import ProfileReport"
      ],
      "metadata": {
        "id": "4LSNp5Ld-N6u"
      },
      "execution_count": 2,
      "outputs": []
    },
    {
      "cell_type": "code",
      "source": [
        "df = pd.read_csv(\"/content/red_wine.csv\")\n"
      ],
      "metadata": {
        "id": "IfA8yKwO-gXS"
      },
      "execution_count": 41,
      "outputs": []
    },
    {
      "cell_type": "code",
      "source": [
        "profile = ProfileReport(df, title=\"Profiling Report\")"
      ],
      "metadata": {
        "id": "ZeJyFLcc_Ax1"
      },
      "execution_count": null,
      "outputs": []
    },
    {
      "cell_type": "code",
      "source": [
        "profile.to_file(\"your_report.html\")"
      ],
      "metadata": {
        "colab": {
          "base_uri": "https://localhost:8080/",
          "height": 145,
          "referenced_widgets": [
            "53a84f8950fc483faca3cc8daed34e84",
            "03df2ce82be74c4dbb8a340501f3b5c6",
            "395401d81e4c4f2090f6a2d87ec36bfd",
            "86e00168c7c7487cb3f0c9f415751538",
            "d962bbbb7dad4fc0b490d3e37e81b379",
            "0ddb7838a4c9499a9234d5fccf5ba1af",
            "ac6723cb1ecd403280ac876e48d51630",
            "b4d978771a384b999b4961d558d5b73b",
            "3fb64d6beeee495b8b198f64a6cea106",
            "36ff2eb4ba304357b412f4d0adcfa5e2",
            "4dbafce820bb45488d367ed790a1ff3c",
            "999db4baca4e402fbddb44963b1582d1",
            "e74f7f1e41ca46b0aeec8d7e0a861c32",
            "605af45e75b844a68fab935f633715dc",
            "88e117fe3bf0411fb7bad5689574cc15",
            "09b7f30a8797497d920b6f236689166f",
            "49d9ada5b9264e9380f2666fc17b8e3a",
            "7fdfb9cf7eb54d488529e9cc7f5c6b20",
            "6dfbf9a208564460abe95dfe439cad3b",
            "244f440a1e0141c98d18af091ddf9bf6",
            "0b1caf8c89d14c74a86a4f4a84d1bfeb",
            "970ed5c734c54ccfae6e97d748985fb7",
            "bd58d83602bd4ebfbe72d54ac799e850",
            "5496202da38b42298e9f856512b85231",
            "30478f9db05b4906ae37e43672e030c7",
            "4f58a1e2c18b4844a55ebefb3148359f",
            "af976e4901dc4ae58d04c2d26e3b4541",
            "7c3ca684cad34390a123830bf20412d2",
            "c00a6354a301485d8ec37c4328fbc03f",
            "3e88a747f59d46b5a1f2d5b790b8dea1",
            "f48c005f098c45db81347c5dcf646939",
            "0e8c9dbba1f44d16b340016eb07e2f5d",
            "48fe4410db38418ca83b324dc839c66b",
            "9dca91e5401942e38430c49465ad85ed",
            "7bf2bbc6618947a08a689ca1cd34b18e",
            "e682569bcf224c1395c821831d2fdf3a",
            "9b4b4df670284ca5aff7b45970abdac1",
            "6ecc33cbe11f45179c0d8db4db501dc8",
            "9684fcc20fdf4714995250a2eff4a2e2",
            "862ff2c913b444d59faafd62869ed5ef",
            "5fabfe0c6e1e4455b90478c31f589894",
            "adcd478d23654b1caf687e8e2362bef4",
            "4ac06f8fa6d64f9fabb2b70f9d9c6ac9",
            "ad9272721ea449aea3ddfc84c751673e"
          ]
        },
        "id": "YKZNgmEB_CXF",
        "outputId": "2ca506b8-2f53-43b1-b755-a08f704b4dd5"
      },
      "execution_count": null,
      "outputs": [
        {
          "output_type": "display_data",
          "data": {
            "text/plain": [
              "Summarize dataset:   0%|          | 0/5 [00:00<?, ?it/s]"
            ],
            "application/vnd.jupyter.widget-view+json": {
              "version_major": 2,
              "version_minor": 0,
              "model_id": "53a84f8950fc483faca3cc8daed34e84"
            }
          },
          "metadata": {}
        },
        {
          "output_type": "display_data",
          "data": {
            "text/plain": [
              "Generate report structure:   0%|          | 0/1 [00:00<?, ?it/s]"
            ],
            "application/vnd.jupyter.widget-view+json": {
              "version_major": 2,
              "version_minor": 0,
              "model_id": "999db4baca4e402fbddb44963b1582d1"
            }
          },
          "metadata": {}
        },
        {
          "output_type": "display_data",
          "data": {
            "text/plain": [
              "Render HTML:   0%|          | 0/1 [00:00<?, ?it/s]"
            ],
            "application/vnd.jupyter.widget-view+json": {
              "version_major": 2,
              "version_minor": 0,
              "model_id": "bd58d83602bd4ebfbe72d54ac799e850"
            }
          },
          "metadata": {}
        },
        {
          "output_type": "display_data",
          "data": {
            "text/plain": [
              "Export report to file:   0%|          | 0/1 [00:00<?, ?it/s]"
            ],
            "application/vnd.jupyter.widget-view+json": {
              "version_major": 2,
              "version_minor": 0,
              "model_id": "9dca91e5401942e38430c49465ad85ed"
            }
          },
          "metadata": {}
        }
      ]
    },
    {
      "cell_type": "code",
      "source": [
        "from sklearn.model_selection import train_test_split\n",
        "from sklearn.model_selection import KFold\n",
        "from sklearn.model_selection import cross_val_score\n",
        "from sklearn.linear_model import LogisticRegression\n",
        "from numpy import mean\n",
        "from numpy import absolute\n",
        "from numpy import sqrt\n",
        "import pandas as pd\n"
      ],
      "metadata": {
        "id": "hQIx_qLcNLjf"
      },
      "execution_count": 4,
      "outputs": []
    },
    {
      "cell_type": "code",
      "source": [
        "df"
      ],
      "metadata": {
        "id": "r_Zoz6ETOB5e"
      },
      "execution_count": null,
      "outputs": []
    },
    {
      "cell_type": "code",
      "source": [
        "for i in range(0,571):\n",
        "  if df.iloc[i,3] == 'low':\n",
        "    df.iloc[i,3] = 0\n",
        "  else :\n",
        "    df.iloc[i,3] = 1\n",
        "\n",
        "X = df[['citric acid', 'sulphates','alcohol']]\n",
        "y = df['type']"
      ],
      "metadata": {
        "id": "kJCCMCyRIDnI"
      },
      "execution_count": 42,
      "outputs": []
    },
    {
      "cell_type": "code",
      "source": [
        "y = y.astype(\"int\")"
      ],
      "metadata": {
        "id": "VrDlRQjc_zLm"
      },
      "execution_count": 43,
      "outputs": []
    },
    {
      "cell_type": "code",
      "source": [
        "#Logistic Regression\n",
        "#Implementing k-fold cross validation  \n",
        "k = 10  \n",
        "k_fold = KFold(n_splits = k, random_state = None)  \n",
        "Lr = LogisticRegression(solver = 'liblinear')  \n",
        "\n",
        "# Finding accuracy scores using cross_val_score methods  \n",
        "mean_score_lr = cross_val_score(Lr, X, y, cv = k_fold).mean()  \n",
        "mean_roc_auc = cross_val_score(Lr, X, y, scoring=\"roc_auc\", cv = k_fold).mean()\n",
        "  \n",
        "print(\"Mean accuracy score: \", mean_score_lr)  \n",
        "print(\"Mean ROC_AUC:\", mean_roc_auc)"
      ],
      "metadata": {
        "colab": {
          "base_uri": "https://localhost:8080/"
        },
        "id": "RS2BCtT8IVrk",
        "outputId": "b329b040-90c5-4042-a006-3f628a732a13"
      },
      "execution_count": 10,
      "outputs": [
        {
          "output_type": "stream",
          "name": "stdout",
          "text": [
            "Mean accuracy score:  0.7810949788263762\n",
            "Mean ROC_AUC: 0.875374463285012\n"
          ]
        }
      ]
    },
    {
      "cell_type": "code",
      "source": [
        "#SVM\n",
        "from sklearn import svm\n",
        "\n",
        "\n",
        "#Create a svm Classifier\n",
        "clf = svm.SVC(kernel='poly') \n",
        "\n",
        "#Implementing k-fold cross validation \n",
        "k = 10  \n",
        "k_fold = KFold(n_splits = k, random_state = None)  \n",
        " \n",
        "\n",
        "# Finding accuracy scores using cross_val_score methods  \n",
        "mean_score_svm = cross_val_score(clf, X, y, cv = k_fold).mean()  \n",
        "mean_roc_svm = cross_val_score(clf, X, y, scoring=\"roc_auc\", cv = k_fold).mean()\n",
        "  \n",
        "print(\"Mean accuracy score: \", mean_score_svm)  \n",
        "print(\"Mean ROC_AUC:\", mean_roc_svm)\n"
      ],
      "metadata": {
        "colab": {
          "base_uri": "https://localhost:8080/"
        },
        "id": "DqrErZ1gLC9I",
        "outputId": "097dda57-5926-4f5b-cbf8-f7565eed01b2"
      },
      "execution_count": 11,
      "outputs": [
        {
          "output_type": "stream",
          "name": "stdout",
          "text": [
            "Mean accuracy score:  0.7619177253478524\n",
            "Mean ROC_AUC: 0.8562763331234319\n"
          ]
        }
      ]
    },
    {
      "cell_type": "code",
      "source": [
        "#Random Forest\n",
        "from sklearn.ensemble import RandomForestClassifier\n",
        "rf = RandomForestClassifier() \n",
        "\n",
        "#Implementing k-fold cross validation \n",
        "k = 10  \n",
        "k_fold = KFold(n_splits = k, random_state = None)  \n",
        " \n",
        "\n",
        "# Finding accuracy scores using cross_val_score methods  \n",
        "mean_score_rf = cross_val_score(rf, X, y, cv = k_fold).mean()  \n",
        "mean_roc_rf = cross_val_score(rf, X, y, scoring=\"roc_auc\", cv = k_fold).mean()\n",
        "  \n",
        "print(\"Mean accuracy score: \", mean_score_rf)  \n",
        "print(\"Mean ROC_AUC:\", mean_roc_rf)\n"
      ],
      "metadata": {
        "colab": {
          "base_uri": "https://localhost:8080/"
        },
        "id": "94nJ013WS19g",
        "outputId": "d62e0f95-e49e-4f27-e914-dc6b6aee45ba"
      },
      "execution_count": 12,
      "outputs": [
        {
          "output_type": "stream",
          "name": "stdout",
          "text": [
            "Mean accuracy score:  0.8371748336358136\n",
            "Mean ROC_AUC: 0.9234855052641946\n"
          ]
        }
      ]
    },
    {
      "cell_type": "code",
      "source": [
        "#Decision Tree\n",
        "from sklearn import tree\n",
        "dt = tree.DecisionTreeClassifier()\n",
        "\n",
        "#Implementing k-fold cross validation \n",
        "k = 10  \n",
        "k_fold = KFold(n_splits = k, random_state = None)  \n",
        " \n",
        "\n",
        "# Finding accuracy scores using cross_val_score methods  \n",
        "mean_score_dt = cross_val_score(dt, X, y, cv = k_fold).mean()  \n",
        "mean_roc_dt = cross_val_score(dt, X, y, scoring=\"roc_auc\", cv = k_fold).mean()\n",
        "  \n",
        "print(\"Mean accuracy score: \", mean_score_dt)  \n",
        "print(\"Mean ROC_AUC:\", mean_roc_dt)"
      ],
      "metadata": {
        "colab": {
          "base_uri": "https://localhost:8080/"
        },
        "id": "Hs0Y39ANU96P",
        "outputId": "45226ed6-ae41-412b-b9e2-4bf8f433ae0f"
      },
      "execution_count": 13,
      "outputs": [
        {
          "output_type": "stream",
          "name": "stdout",
          "text": [
            "Mean accuracy score:  0.8108287961282515\n",
            "Mean ROC_AUC: 0.7976755346340302\n"
          ]
        }
      ]
    },
    {
      "cell_type": "code",
      "source": [
        "#Gaussian Naive Bayes\n",
        "from sklearn.naive_bayes import GaussianNB\n",
        "\n",
        "nb =  GaussianNB()\n",
        "\n",
        "#Implementing k-fold cross validation \n",
        "k = 10  \n",
        "k_fold = KFold(n_splits = k, random_state = None)  \n",
        "\n",
        "# Finding accuracy scores using cross_val_score methods  \n",
        "mean_score_nb = cross_val_score(nb, X, y, cv = k_fold).mean()  \n",
        "mean_roc_nb = cross_val_score(nb, X, y, scoring=\"roc_auc\", cv = k_fold).mean()\n",
        "  \n",
        "print(\"Mean accuracy score: \", mean_score_nb)  \n",
        "print(\"Mean ROC_AUC:\", mean_roc_nb)\n",
        "\n"
      ],
      "metadata": {
        "colab": {
          "base_uri": "https://localhost:8080/"
        },
        "id": "44qqwTDSVk8H",
        "outputId": "d9bb11fe-a419-46bd-a6ba-c8a36bb1f708"
      },
      "execution_count": 14,
      "outputs": [
        {
          "output_type": "stream",
          "name": "stdout",
          "text": [
            "Mean accuracy score:  0.8215063520871142\n",
            "Mean ROC_AUC: 0.8954626514494424\n"
          ]
        }
      ]
    },
    {
      "cell_type": "code",
      "source": [
        "#Zero R classifier\n",
        "from sklearn.dummy import DummyClassifier\n",
        "ZeroR = DummyClassifier(strategy=\"most_frequent\")\n",
        "\n",
        "#Implementing k-fold cross validation \n",
        "k = 10  \n",
        "k_fold = KFold(n_splits = k, random_state = None)  \n",
        "\n",
        "# Finding accuracy scores using cross_val_score methods  \n",
        "mean_score_ZeroR= cross_val_score(ZeroR, X, y, cv = k_fold).mean()  \n",
        "mean_roc_ZeroR = cross_val_score(ZeroR, X, y, scoring=\"roc_auc\", cv = k_fold).mean()\n",
        "  \n",
        "print(\"Mean accuracy score: \", mean_score_ZeroR)  \n",
        "print(\"Mean ROC_AUC:\", mean_roc_ZeroR)"
      ],
      "metadata": {
        "colab": {
          "base_uri": "https://localhost:8080/"
        },
        "id": "eeX0vhlGX_vn",
        "outputId": "992aa41b-c65c-4dd0-9b6f-ec6cfdf30576"
      },
      "execution_count": 15,
      "outputs": [
        {
          "output_type": "stream",
          "name": "stdout",
          "text": [
            "Mean accuracy score:  0.5287053841500302\n",
            "Mean ROC_AUC: 0.5\n"
          ]
        }
      ]
    },
    {
      "cell_type": "code",
      "source": [
        "pip install git+git://github.com/rasbt/mlxtend.\n",
        "pip install imodels"
      ],
      "metadata": {
        "id": "nuXwuUDPdVMM"
      },
      "execution_count": null,
      "outputs": []
    },
    {
      "cell_type": "code",
      "source": [
        "import math\n",
        "import numpy as np\n",
        "from copy import deepcopy\n",
        "from sklearn.base import BaseEstimator\n",
        "from sklearn.base import BaseEstimator, ClassifierMixin, RegressorMixin\n",
        "from sklearn.utils.multiclass import check_classification_targets, unique_labels\n",
        "from sklearn.utils.validation import check_X_y, check_array, check_is_fitted\n",
        "\n",
        "from imodels import GreedyRuleListClassifier\n",
        "from imodels.rule_list.rule_list import RuleList\n",
        "from imodels.util.arguments import check_fit_arguments\n",
        "\n",
        "\n",
        "class OneRClassifier(GreedyRuleListClassifier):\n",
        "    def __init__(self, max_depth=5, class_weight=None, criterion='gini'):\n",
        "        self.max_depth = max_depth\n",
        "        self.feature_names_ = None\n",
        "        self.class_weight = class_weight\n",
        "        self.criterion = criterion\n",
        "        self._estimator_type = 'classifier'\n",
        "\n",
        "    def fit(self, X, y, feature_names=None):\n",
        "        \"\"\"Fit oneR\n",
        "        \"\"\"\n",
        "        X, y, feature_names = check_fit_arguments(self, X, y, feature_names)\n",
        "\n",
        "        ms = []\n",
        "        accs = np.zeros(X.shape[1])\n",
        "        for col_idx in range(X.shape[1]):\n",
        "            x = X[:, col_idx].reshape(-1, 1)\n",
        "            m = GreedyRuleListClassifier(max_depth=self.max_depth, class_weight=self.class_weight,\n",
        "                                         criterion=self.criterion)\n",
        "            feat_names_single = [self.feature_names_[col_idx]]\n",
        "            m.fit(x, y, feature_names=feat_names_single)\n",
        "            accs[col_idx] = np.mean(m.predict(x) == y)\n",
        "            ms.append(m)\n",
        "            # print('acc', feat_names_single[0], f'{accs[col_idx]:0.2f}')\n",
        "        col_idx_best = np.argmax(accs)\n",
        "        self.rules_ = ms[col_idx_best].rules_\n",
        "        self.complexity_ = len(self.rules_)\n",
        "\n",
        "        # need to adjust index_col since was fitted with only 1 col\n",
        "        for rule in self.rules_:\n",
        "            if 'index_col' in rule:\n",
        "                rule['index_col'] += col_idx_best\n",
        "        self.depth = len(self.rules_)\n",
        "        return self\n"
      ],
      "metadata": {
        "id": "rkX_1-llaSuI"
      },
      "execution_count": 2,
      "outputs": []
    },
    {
      "cell_type": "code",
      "source": [
        "#OneR Classifier\n",
        "from mlxtend.classifier import OneRClassifier\n",
        "oner = OneRClassifier()\n",
        "\n",
        "#Implementing k-fold cross validation \n",
        "k = 10  \n",
        "k_fold = KFold(n_splits = k, random_state = None)  \n",
        "\n",
        "# Finding accuracy scores using cross_val_score methods  \n",
        "mean_score_oner= cross_val_score(oner, X, y, cv = k_fold).mean()  \n",
        "mean_roc_oner = cross_val_score(oner, X, y, scoring=\"roc_auc\", cv = k_fold).mean()\n",
        "  \n",
        "print(\"Mean accuracy score: \", mean_score_oner)  \n",
        "print(\"Mean ROC_AUC:\", mean_roc_oner)"
      ],
      "metadata": {
        "id": "1pL-oyu4ZPfS"
      },
      "execution_count": null,
      "outputs": []
    },
    {
      "cell_type": "code",
      "source": [
        "df1 = pd.DataFrame()"
      ],
      "metadata": {
        "id": "oHi4Fr3p7qzd"
      },
      "execution_count": 16,
      "outputs": []
    },
    {
      "cell_type": "code",
      "source": [
        "df1[\"Model\"] = [\"AUC\",\"Accuracy\"]\n",
        "df1[\"ZeroR\"] =[\"N/A\",mean_score_ZeroR]\n",
        "df1[\"LR\"] = [mean_score_lr,mean_roc_auc]\n",
        "df1[\"NB\"] = [mean_score_nb,mean_roc_nb]\n",
        "df1[\"DT\"] = [mean_score_dt,mean_roc_dt]\n",
        "df1[\"SVM\"] = [mean_score_svm,mean_roc_svm]\n",
        "df1[\"RF\"] = [mean_score_rf,mean_roc_rf]"
      ],
      "metadata": {
        "id": "BimsLCr78y2w"
      },
      "execution_count": 17,
      "outputs": []
    },
    {
      "cell_type": "code",
      "source": [
        "df1"
      ],
      "metadata": {
        "colab": {
          "base_uri": "https://localhost:8080/",
          "height": 112
        },
        "id": "TIBLgEwHAv05",
        "outputId": "348cfff2-b6ef-49e6-a93e-cf180795a62e"
      },
      "execution_count": 18,
      "outputs": [
        {
          "output_type": "execute_result",
          "data": {
            "text/plain": [
              "      Model     ZeroR        LR        NB        DT       SVM        RF\n",
              "0       AUC       N/A  0.781095  0.821506  0.810829  0.761918  0.837175\n",
              "1  Accuracy  0.528705  0.875374  0.895463  0.797676  0.856276  0.923486"
            ],
            "text/html": [
              "\n",
              "  <div id=\"df-27ee94a8-a553-4443-b403-87ef85cbe2e8\">\n",
              "    <div class=\"colab-df-container\">\n",
              "      <div>\n",
              "<style scoped>\n",
              "    .dataframe tbody tr th:only-of-type {\n",
              "        vertical-align: middle;\n",
              "    }\n",
              "\n",
              "    .dataframe tbody tr th {\n",
              "        vertical-align: top;\n",
              "    }\n",
              "\n",
              "    .dataframe thead th {\n",
              "        text-align: right;\n",
              "    }\n",
              "</style>\n",
              "<table border=\"1\" class=\"dataframe\">\n",
              "  <thead>\n",
              "    <tr style=\"text-align: right;\">\n",
              "      <th></th>\n",
              "      <th>Model</th>\n",
              "      <th>ZeroR</th>\n",
              "      <th>LR</th>\n",
              "      <th>NB</th>\n",
              "      <th>DT</th>\n",
              "      <th>SVM</th>\n",
              "      <th>RF</th>\n",
              "    </tr>\n",
              "  </thead>\n",
              "  <tbody>\n",
              "    <tr>\n",
              "      <th>0</th>\n",
              "      <td>AUC</td>\n",
              "      <td>N/A</td>\n",
              "      <td>0.781095</td>\n",
              "      <td>0.821506</td>\n",
              "      <td>0.810829</td>\n",
              "      <td>0.761918</td>\n",
              "      <td>0.837175</td>\n",
              "    </tr>\n",
              "    <tr>\n",
              "      <th>1</th>\n",
              "      <td>Accuracy</td>\n",
              "      <td>0.528705</td>\n",
              "      <td>0.875374</td>\n",
              "      <td>0.895463</td>\n",
              "      <td>0.797676</td>\n",
              "      <td>0.856276</td>\n",
              "      <td>0.923486</td>\n",
              "    </tr>\n",
              "  </tbody>\n",
              "</table>\n",
              "</div>\n",
              "      <button class=\"colab-df-convert\" onclick=\"convertToInteractive('df-27ee94a8-a553-4443-b403-87ef85cbe2e8')\"\n",
              "              title=\"Convert this dataframe to an interactive table.\"\n",
              "              style=\"display:none;\">\n",
              "        \n",
              "  <svg xmlns=\"http://www.w3.org/2000/svg\" height=\"24px\"viewBox=\"0 0 24 24\"\n",
              "       width=\"24px\">\n",
              "    <path d=\"M0 0h24v24H0V0z\" fill=\"none\"/>\n",
              "    <path d=\"M18.56 5.44l.94 2.06.94-2.06 2.06-.94-2.06-.94-.94-2.06-.94 2.06-2.06.94zm-11 1L8.5 8.5l.94-2.06 2.06-.94-2.06-.94L8.5 2.5l-.94 2.06-2.06.94zm10 10l.94 2.06.94-2.06 2.06-.94-2.06-.94-.94-2.06-.94 2.06-2.06.94z\"/><path d=\"M17.41 7.96l-1.37-1.37c-.4-.4-.92-.59-1.43-.59-.52 0-1.04.2-1.43.59L10.3 9.45l-7.72 7.72c-.78.78-.78 2.05 0 2.83L4 21.41c.39.39.9.59 1.41.59.51 0 1.02-.2 1.41-.59l7.78-7.78 2.81-2.81c.8-.78.8-2.07 0-2.86zM5.41 20L4 18.59l7.72-7.72 1.47 1.35L5.41 20z\"/>\n",
              "  </svg>\n",
              "      </button>\n",
              "      \n",
              "  <style>\n",
              "    .colab-df-container {\n",
              "      display:flex;\n",
              "      flex-wrap:wrap;\n",
              "      gap: 12px;\n",
              "    }\n",
              "\n",
              "    .colab-df-convert {\n",
              "      background-color: #E8F0FE;\n",
              "      border: none;\n",
              "      border-radius: 50%;\n",
              "      cursor: pointer;\n",
              "      display: none;\n",
              "      fill: #1967D2;\n",
              "      height: 32px;\n",
              "      padding: 0 0 0 0;\n",
              "      width: 32px;\n",
              "    }\n",
              "\n",
              "    .colab-df-convert:hover {\n",
              "      background-color: #E2EBFA;\n",
              "      box-shadow: 0px 1px 2px rgba(60, 64, 67, 0.3), 0px 1px 3px 1px rgba(60, 64, 67, 0.15);\n",
              "      fill: #174EA6;\n",
              "    }\n",
              "\n",
              "    [theme=dark] .colab-df-convert {\n",
              "      background-color: #3B4455;\n",
              "      fill: #D2E3FC;\n",
              "    }\n",
              "\n",
              "    [theme=dark] .colab-df-convert:hover {\n",
              "      background-color: #434B5C;\n",
              "      box-shadow: 0px 1px 3px 1px rgba(0, 0, 0, 0.15);\n",
              "      filter: drop-shadow(0px 1px 2px rgba(0, 0, 0, 0.3));\n",
              "      fill: #FFFFFF;\n",
              "    }\n",
              "  </style>\n",
              "\n",
              "      <script>\n",
              "        const buttonEl =\n",
              "          document.querySelector('#df-27ee94a8-a553-4443-b403-87ef85cbe2e8 button.colab-df-convert');\n",
              "        buttonEl.style.display =\n",
              "          google.colab.kernel.accessAllowed ? 'block' : 'none';\n",
              "\n",
              "        async function convertToInteractive(key) {\n",
              "          const element = document.querySelector('#df-27ee94a8-a553-4443-b403-87ef85cbe2e8');\n",
              "          const dataTable =\n",
              "            await google.colab.kernel.invokeFunction('convertToInteractive',\n",
              "                                                     [key], {});\n",
              "          if (!dataTable) return;\n",
              "\n",
              "          const docLinkHtml = 'Like what you see? Visit the ' +\n",
              "            '<a target=\"_blank\" href=https://colab.research.google.com/notebooks/data_table.ipynb>data table notebook</a>'\n",
              "            + ' to learn more about interactive tables.';\n",
              "          element.innerHTML = '';\n",
              "          dataTable['output_type'] = 'display_data';\n",
              "          await google.colab.output.renderOutput(dataTable, element);\n",
              "          const docLink = document.createElement('div');\n",
              "          docLink.innerHTML = docLinkHtml;\n",
              "          element.appendChild(docLink);\n",
              "        }\n",
              "      </script>\n",
              "    </div>\n",
              "  </div>\n",
              "  "
            ]
          },
          "metadata": {},
          "execution_count": 18
        }
      ]
    },
    {
      "cell_type": "code",
      "source": [
        "#Random Forest\n",
        "from sklearn.ensemble import RandomForestClassifier\n",
        "\n",
        "model = RandomForestClassifier() \n",
        "\n",
        "mean_fpr = np.linspace(0, 1, 100)\n",
        "tprs, aucs = [], []\n",
        "mean_fpr = np.linspace(0, 1, 100)\n",
        "\n",
        "#Implementing k-fold cross validation \n",
        "k = 10  \n",
        "k_fold = KFold(n_splits = k, random_state = None)  \n",
        " \n",
        "fig, ax = plt.subplots()\n",
        "for index, (train, test) in enumerate(k_fold.split(X, y)):\n",
        "\tmodel.fit(X[train], y[train])\n",
        "\tplot = RocCurveDisplay.from_estimator(\n",
        "\t\tmodel, X[test], y[test],\n",
        "\t\tname=\"ROC fold {}\".format(index),\n",
        "\t\tax=ax,\n",
        "\t)\n",
        "\tinterp_tpr = np.interp(mean_fpr, plot.fpr, plot.tpr)\n",
        "\tinterp_tpr[0] = 0.0\n",
        "\ttprs.append(interp_tpr)\n",
        "\taucs.append(plot.roc_auc)\n",
        "\n",
        "ax.set(\n",
        "\txlim=[-0.05, 1.05],\n",
        "\tylim=[-0.05, 1.05],\n",
        "\ttitle=\"Receiver operating characteristic with CV\",\n",
        ")\n",
        "plt.savefig(\"roc_cv.jpeg\")\n",
        "\n",
        "\n"
      ],
      "metadata": {
        "id": "ZnzNoRTma4Jl"
      },
      "execution_count": null,
      "outputs": []
    },
    {
      "cell_type": "code",
      "source": [
        "## ROC Of Random Forest\n",
        "\n",
        "import numpy as np\n",
        "from scipy import interp\n",
        "import pylab as pl\n",
        "\n",
        "from sklearn import svm, datasets\n",
        "from sklearn.metrics import roc_curve, auc\n",
        "from sklearn.model_selection import KFold\n",
        "\n",
        "k = 10  \n",
        "cv = KFold(n_splits = k, random_state = None)  \n",
        "classifier = RandomForestClassifier() \n",
        "\n",
        "mean_tpr = 0.0\n",
        "mean_fpr = np.linspace(0, 1, 100)\n",
        "all_tpr = []\n",
        "\n",
        "i = 0\n",
        "for train_index, test_index in cv.split(X):\n",
        "    X_train, X_test = X.iloc[train_index], X.iloc[test_index]\n",
        "    y_train, y_test = y.iloc[train_index], y.iloc[test_index]\n",
        "    probas_ = classifier.fit(X_train, y_train).predict_proba(X_test)\n",
        "    # Compute ROC curve and area the curve\n",
        "    fpr, tpr, thresholds = roc_curve(y_test, probas_[:,1 ])\n",
        "    mean_tpr += interp(mean_fpr, fpr, tpr)\n",
        "    mean_tpr[0] = 0.0\n",
        "    roc_auc = auc(fpr, tpr)\n",
        "    pl.plot(fpr, tpr, lw=1, label='ROC fold %d (area = %0.2f)' % (i, roc_auc))\n",
        "    i += 1\n",
        "\n",
        "pl.plot([0, 1], [0, 1], '--', color=(0.6, 0.6, 0.6), label='Luck')\n",
        "\n",
        "mean_tpr /= 10\n",
        "mean_tpr[-1] = 1.0\n",
        "mean_auc = auc(mean_fpr, mean_tpr)\n",
        "pl.plot(mean_fpr, mean_tpr, 'k--',label='Mean ROC (area = %0.2f)' % mean_auc, lw=2)\n",
        "\n",
        "pl.xlim([-0.05, 1.05])\n",
        "pl.ylim([-0.05, 1.05])\n",
        "pl.xlabel('False Positive Rate')\n",
        "pl.ylabel('True Positive Rate')\n",
        "pl.title('Receiver operating characteristic example')\n",
        "pl.legend(loc=\"lower right\")\n",
        "pl.show()"
      ],
      "metadata": {
        "colab": {
          "base_uri": "https://localhost:8080/",
          "height": 839
        },
        "id": "wuluLlcZcurH",
        "outputId": "ac505a3e-5fdc-481f-e208-3905897df554"
      },
      "execution_count": 36,
      "outputs": [
        {
          "output_type": "stream",
          "name": "stderr",
          "text": [
            "<ipython-input-36-efb159d35021>:24: DeprecationWarning: scipy.interp is deprecated and will be removed in SciPy 2.0.0, use numpy.interp instead\n",
            "  mean_tpr += interp(mean_fpr, fpr, tpr)\n",
            "<ipython-input-36-efb159d35021>:24: DeprecationWarning: scipy.interp is deprecated and will be removed in SciPy 2.0.0, use numpy.interp instead\n",
            "  mean_tpr += interp(mean_fpr, fpr, tpr)\n",
            "<ipython-input-36-efb159d35021>:24: DeprecationWarning: scipy.interp is deprecated and will be removed in SciPy 2.0.0, use numpy.interp instead\n",
            "  mean_tpr += interp(mean_fpr, fpr, tpr)\n",
            "<ipython-input-36-efb159d35021>:24: DeprecationWarning: scipy.interp is deprecated and will be removed in SciPy 2.0.0, use numpy.interp instead\n",
            "  mean_tpr += interp(mean_fpr, fpr, tpr)\n",
            "<ipython-input-36-efb159d35021>:24: DeprecationWarning: scipy.interp is deprecated and will be removed in SciPy 2.0.0, use numpy.interp instead\n",
            "  mean_tpr += interp(mean_fpr, fpr, tpr)\n",
            "<ipython-input-36-efb159d35021>:24: DeprecationWarning: scipy.interp is deprecated and will be removed in SciPy 2.0.0, use numpy.interp instead\n",
            "  mean_tpr += interp(mean_fpr, fpr, tpr)\n",
            "<ipython-input-36-efb159d35021>:24: DeprecationWarning: scipy.interp is deprecated and will be removed in SciPy 2.0.0, use numpy.interp instead\n",
            "  mean_tpr += interp(mean_fpr, fpr, tpr)\n",
            "<ipython-input-36-efb159d35021>:24: DeprecationWarning: scipy.interp is deprecated and will be removed in SciPy 2.0.0, use numpy.interp instead\n",
            "  mean_tpr += interp(mean_fpr, fpr, tpr)\n",
            "<ipython-input-36-efb159d35021>:24: DeprecationWarning: scipy.interp is deprecated and will be removed in SciPy 2.0.0, use numpy.interp instead\n",
            "  mean_tpr += interp(mean_fpr, fpr, tpr)\n",
            "<ipython-input-36-efb159d35021>:24: DeprecationWarning: scipy.interp is deprecated and will be removed in SciPy 2.0.0, use numpy.interp instead\n",
            "  mean_tpr += interp(mean_fpr, fpr, tpr)\n"
          ]
        },
        {
          "output_type": "display_data",
          "data": {
            "text/plain": [
              "<Figure size 640x480 with 1 Axes>"
            ],
            "image/png": "[encoded data removed]"
          },
          "metadata": {}
        }
      ]
    },
    {
      "cell_type": "code",
      "source": [
        "from sklearn import metrics\n",
        "\n",
        "# creating a RF classifier\n",
        "clf = RandomForestClassifier()\n",
        "clf.fit(X, y)\n",
        "\n",
        "df2 = pd.read_csv(\"/content/white_wine.csv\")\n",
        "for i in range(0,len(df2)):\n",
        "  if df2.iloc[i,3] == 'low':\n",
        "    df2.iloc[i,3] = 0\n",
        "  else :\n",
        "    df2.iloc[i,3] = 1\n",
        "\n",
        "X_test = df2[['citric acid', 'sulphates','alcohol']]\n",
        "y_test = df2['type']\n",
        "\n",
        "y_test = y_test.astype(\"int\")\n",
        "\n",
        "y_pred = clf.predict(X_test)\n",
        "\n",
        "print(metrics.confusion_matrix(y_test, y_pred))\n",
        "print(metrics.classification_report(y_test, y_pred))\n",
        "print(\"Accuracy:\",metrics.accuracy_score(y_test, y_pred))\n",
        "print(\"AUC\",metrics.roc_auc_score(y_test, y_pred))"
      ],
      "metadata": {
        "colab": {
          "base_uri": "https://localhost:8080/"
        },
        "id": "kRENjiOag6NF",
        "outputId": "f6adcd35-7ace-42ba-cc29-c33447210cfe"
      },
      "execution_count": 72,
      "outputs": [
        {
          "output_type": "stream",
          "name": "stdout",
          "text": [
            "[[16  1]\n",
            " [ 4 57]]\n",
            "              precision    recall  f1-score   support\n",
            "\n",
            "           0       0.80      0.94      0.86        17\n",
            "           1       0.98      0.93      0.96        61\n",
            "\n",
            "    accuracy                           0.94        78\n",
            "   macro avg       0.89      0.94      0.91        78\n",
            "weighted avg       0.94      0.94      0.94        78\n",
            "\n",
            "Accuracy: 0.9358974358974359\n",
            "AUC 0.937801350048216\n"
          ]
        }
      ]
    }
  ]
}